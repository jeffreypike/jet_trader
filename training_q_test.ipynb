{
 "cells": [
  {
   "cell_type": "code",
   "execution_count": 1,
   "metadata": {},
   "outputs": [],
   "source": [
    "# Standard stuff\n",
    "import numpy as np\n",
    "import pandas as pd\n",
    "import matplotlib.pyplot as plt\n",
    "import os\n",
    "\n",
    "# Machine Learning\n",
    "import tensorflow as tf\n",
    "from tensorflow.keras.layers import Input, Dense, Dropout\n",
    "from tensorflow.keras.models import Model\n",
    "import pickle\n",
    "from sklearn.preprocessing import StandardScaler\n",
    "\n",
    "# Algorithmic trading\n",
    "import tpqoa\n",
    "from datetime import datetime, timedelta\n",
    "import time\n",
    "\n",
    "# My designs\n",
    "import Agents\n",
    "import Environments\n",
    "import Models"
   ]
  },
  {
   "cell_type": "code",
   "execution_count": 2,
   "metadata": {},
   "outputs": [],
   "source": [
    "def get_scaler(env, epochs):\n",
    "    states = []\n",
    "\n",
    "    for i in range(epochs):\n",
    "        done = False\n",
    "        while not done:   # play as random agent to generate sample space of states\n",
    "            action = np.random.choice(env.action_space)\n",
    "            state, reward, done, info = env.step(action)\n",
    "            states.append(state)\n",
    "    \n",
    "    scaler = StandardScaler()\n",
    "    scaler.fit(states)\n",
    "    return scaler\n",
    "\n",
    "def maybe_make_dir(directory):\n",
    "    if not os.path.exists(directory):\n",
    "        os.makedirs(directory)\n",
    "\n",
    "def play_one_episode(env, agent, scaler):\n",
    "    state = env.reset()\n",
    "    state = scaler.transform([state])\n",
    "    done = False\n",
    "    \n",
    "    while not done:\n",
    "        action = agent.act(state)\n",
    "        next_state, reward, done, info = env.step(action)\n",
    "        next_state = scaler.transform([next_state])\n",
    "        agent.train(state, action, reward, next_state, done)\n",
    "        state = next_state\n",
    "    \n",
    "    return info[\"cur_val\"]\n",
    "\n",
    "def get_data(api, instrument, bar_length, months = 6):     \n",
    "    now = datetime.utcnow()\n",
    "    now = now - timedelta(microseconds = now.microsecond)\n",
    "    past = now - timedelta(days = 30 * months)\n",
    "\n",
    "    df_ask = api.get_history(\n",
    "        instrument = instrument,\n",
    "        start = past,\n",
    "        end = now,\n",
    "        granularity = \"S5\",\n",
    "        price = \"A\",\n",
    "        localize = False\n",
    "    ).c.rename(\"Ask\")\n",
    "\n",
    "    df_ask = df_ask.resample(pd.to_timedelta(bar_length), label = \"right\").last()\n",
    "\n",
    "    df_bid = api.get_history(\n",
    "        instrument = instrument,\n",
    "        start = past,\n",
    "        end = now,\n",
    "        granularity = \"S5\",\n",
    "        price = \"B\",\n",
    "        localize = False\n",
    "    ).c.rename(\"Bid\")\n",
    "\n",
    "    df_bid = df_bid.resample(pd.to_timedelta(bar_length), label = \"right\").last()\n",
    "\n",
    "    df = pd.concat([df_ask, df_bid], axis = 1).dropna().iloc[ : -1]\n",
    "    return df\n"
   ]
  },
  {
   "cell_type": "code",
   "execution_count": 3,
   "metadata": {},
   "outputs": [
    {
     "data": {
      "text/plain": [
       "99872.6231"
      ]
     },
     "execution_count": 3,
     "metadata": {},
     "output_type": "execute_result"
    }
   ],
   "source": [
    "api = tpqoa.tpqoa(\"oanda.cfg\")\n",
    "balance = float(api.get_account_summary()[\"balance\"])\n",
    "balance"
   ]
  },
  {
   "cell_type": "code",
   "execution_count": 4,
   "metadata": {},
   "outputs": [
    {
     "name": "stdout",
     "output_type": "stream",
     "text": [
      "Wall time: 4min 37s\n"
     ]
    },
    {
     "data": {
      "text/html": [
       "<div>\n",
       "<style scoped>\n",
       "    .dataframe tbody tr th:only-of-type {\n",
       "        vertical-align: middle;\n",
       "    }\n",
       "\n",
       "    .dataframe tbody tr th {\n",
       "        vertical-align: top;\n",
       "    }\n",
       "\n",
       "    .dataframe thead th {\n",
       "        text-align: right;\n",
       "    }\n",
       "</style>\n",
       "<table border=\"1\" class=\"dataframe\">\n",
       "  <thead>\n",
       "    <tr style=\"text-align: right;\">\n",
       "      <th></th>\n",
       "      <th>Ask</th>\n",
       "      <th>Bid</th>\n",
       "    </tr>\n",
       "    <tr>\n",
       "      <th>time</th>\n",
       "      <th></th>\n",
       "      <th></th>\n",
       "    </tr>\n",
       "  </thead>\n",
       "  <tbody>\n",
       "    <tr>\n",
       "      <th>2021-08-15 21:20:00+00:00</th>\n",
       "      <td>1.17983</td>\n",
       "      <td>1.17935</td>\n",
       "    </tr>\n",
       "    <tr>\n",
       "      <th>2021-08-15 21:40:00+00:00</th>\n",
       "      <td>1.17982</td>\n",
       "      <td>1.17926</td>\n",
       "    </tr>\n",
       "    <tr>\n",
       "      <th>2021-08-15 22:00:00+00:00</th>\n",
       "      <td>1.17965</td>\n",
       "      <td>1.17925</td>\n",
       "    </tr>\n",
       "    <tr>\n",
       "      <th>2021-08-15 22:20:00+00:00</th>\n",
       "      <td>1.17978</td>\n",
       "      <td>1.17962</td>\n",
       "    </tr>\n",
       "    <tr>\n",
       "      <th>2021-08-15 22:40:00+00:00</th>\n",
       "      <td>1.17953</td>\n",
       "      <td>1.17936</td>\n",
       "    </tr>\n",
       "    <tr>\n",
       "      <th>...</th>\n",
       "      <td>...</td>\n",
       "      <td>...</td>\n",
       "    </tr>\n",
       "    <tr>\n",
       "      <th>2022-02-10 13:00:00+00:00</th>\n",
       "      <td>1.14370</td>\n",
       "      <td>1.14357</td>\n",
       "    </tr>\n",
       "    <tr>\n",
       "      <th>2022-02-10 13:20:00+00:00</th>\n",
       "      <td>1.14332</td>\n",
       "      <td>1.14318</td>\n",
       "    </tr>\n",
       "    <tr>\n",
       "      <th>2022-02-10 13:40:00+00:00</th>\n",
       "      <td>1.14107</td>\n",
       "      <td>1.14091</td>\n",
       "    </tr>\n",
       "    <tr>\n",
       "      <th>2022-02-10 14:00:00+00:00</th>\n",
       "      <td>1.14090</td>\n",
       "      <td>1.14077</td>\n",
       "    </tr>\n",
       "    <tr>\n",
       "      <th>2022-02-10 14:20:00+00:00</th>\n",
       "      <td>1.13857</td>\n",
       "      <td>1.13843</td>\n",
       "    </tr>\n",
       "  </tbody>\n",
       "</table>\n",
       "<p>9259 rows × 2 columns</p>\n",
       "</div>"
      ],
      "text/plain": [
       "                               Ask      Bid\n",
       "time                                       \n",
       "2021-08-15 21:20:00+00:00  1.17983  1.17935\n",
       "2021-08-15 21:40:00+00:00  1.17982  1.17926\n",
       "2021-08-15 22:00:00+00:00  1.17965  1.17925\n",
       "2021-08-15 22:20:00+00:00  1.17978  1.17962\n",
       "2021-08-15 22:40:00+00:00  1.17953  1.17936\n",
       "...                            ...      ...\n",
       "2022-02-10 13:00:00+00:00  1.14370  1.14357\n",
       "2022-02-10 13:20:00+00:00  1.14332  1.14318\n",
       "2022-02-10 13:40:00+00:00  1.14107  1.14091\n",
       "2022-02-10 14:00:00+00:00  1.14090  1.14077\n",
       "2022-02-10 14:20:00+00:00  1.13857  1.13843\n",
       "\n",
       "[9259 rows x 2 columns]"
      ]
     },
     "execution_count": 4,
     "metadata": {},
     "output_type": "execute_result"
    }
   ],
   "source": [
    "%%time\n",
    "data = get_data(api, \"EUR_USD\", \"20min\")\n",
    "data"
   ]
  },
  {
   "cell_type": "code",
   "execution_count": 5,
   "metadata": {},
   "outputs": [],
   "source": [
    "data.to_csv(\"eur_usd_data.csv\")"
   ]
  },
  {
   "cell_type": "code",
   "execution_count": 9,
   "metadata": {},
   "outputs": [
    {
     "data": {
      "text/plain": [
       "2371"
      ]
     },
     "execution_count": 9,
     "metadata": {},
     "output_type": "execute_result"
    }
   ],
   "source": [
    "model = Models.MLP(input_dim = 4)\n",
    "flat_weights = []\n",
    "for weight in model.model.get_weights():\n",
    "    flat_weights.append(weight.flatten())\n",
    "np.concatenate(flat_weights).size"
   ]
  },
  {
   "cell_type": "code",
   "execution_count": 15,
   "metadata": {},
   "outputs": [
    {
     "data": {
      "text/plain": [
       "[3, 32, 32, 32, 4]"
      ]
     },
     "execution_count": 15,
     "metadata": {},
     "output_type": "execute_result"
    }
   ],
   "source": [
    "[model.output_dim] + [model.hidden_dim] * model.hidden_layers + [model.input_dim]"
   ]
  },
  {
   "cell_type": "code",
   "execution_count": 10,
   "metadata": {},
   "outputs": [
    {
     "data": {
      "text/plain": [
       "array([-0.15617898,  0.18407118, -0.07328022, ...,  0.        ,\n",
       "        0.        ,  0.        ], dtype=float32)"
      ]
     },
     "execution_count": 10,
     "metadata": {},
     "output_type": "execute_result"
    }
   ],
   "source": [
    "flat_weights = model.get_weights()\n",
    "flat_weights"
   ]
  },
  {
   "cell_type": "code",
   "execution_count": 11,
   "metadata": {},
   "outputs": [],
   "source": [
    "old_weights = model.model.get_weights()"
   ]
  },
  {
   "cell_type": "code",
   "execution_count": 12,
   "metadata": {},
   "outputs": [],
   "source": [
    "model.set_weights(flat_weights)"
   ]
  },
  {
   "cell_type": "code",
   "execution_count": 16,
   "metadata": {},
   "outputs": [
    {
     "data": {
      "text/plain": [
       "True"
      ]
     },
     "execution_count": 16,
     "metadata": {},
     "output_type": "execute_result"
    }
   ],
   "source": [
    "flag = True\n",
    "for i in range(len(old_weights)):\n",
    "    if model.model.get_weights()[i].all() != old_weights[i].all():\n",
    "        flag = False\n",
    "flag"
   ]
  },
  {
   "cell_type": "code",
   "execution_count": 6,
   "metadata": {},
   "outputs": [],
   "source": [
    "train_sim = Environments.Simulator(\n",
    "        data = data, \n",
    "        initial_investment = balance,\n",
    "        bar_length = \"20min\",\n",
    "        time_horizon = \"12hour\",\n",
    "        units = 100000\n",
    ")"
   ]
  },
  {
   "cell_type": "code",
   "execution_count": 7,
   "metadata": {},
   "outputs": [
    {
     "name": "stdout",
     "output_type": "stream",
     "text": [
      "WARNING:tensorflow:No training configuration found in save file, so the model was *not* compiled. Compile it manually.\n"
     ]
    }
   ],
   "source": [
    "state_size = 4\n",
    "model = Models.MLP(input_dim = state_size)\n",
    "agent = Agents.QDayTrader(state_size = state_size, model = model)\n",
    "agent.load(r\"C:\\Users\\Jeff\\Documents\\Projects\\Algorithmic Trader\\day_trader_models\\q_day_trader\")"
   ]
  },
  {
   "cell_type": "code",
   "execution_count": 8,
   "metadata": {},
   "outputs": [
    {
     "data": {
      "text/plain": [
       "array([0.00000000e+00, 9.98726231e+04, 1.17983000e+00, 1.17935000e+00])"
      ]
     },
     "execution_count": 8,
     "metadata": {},
     "output_type": "execute_result"
    }
   ],
   "source": [
    "train_sim.reset()"
   ]
  },
  {
   "cell_type": "code",
   "execution_count": 9,
   "metadata": {},
   "outputs": [
    {
     "data": {
      "text/plain": [
       "array([0.00000000e+00, 9.98726231e+04, 1.17983000e+00, 1.17935000e+00])"
      ]
     },
     "execution_count": 9,
     "metadata": {},
     "output_type": "execute_result"
    }
   ],
   "source": [
    "scaler = get_scaler(train_sim, 1)\n",
    "train_sim.reset()"
   ]
  },
  {
   "cell_type": "code",
   "execution_count": 11,
   "metadata": {},
   "outputs": [
    {
     "name": "stdout",
     "output_type": "stream",
     "text": [
      "Wall time: 20min 27s\n"
     ]
    },
    {
     "data": {
      "text/plain": [
       "86172.62310000029"
      ]
     },
     "execution_count": 11,
     "metadata": {},
     "output_type": "execute_result"
    }
   ],
   "source": [
    "%%time\n",
    "play_one_episode(env = train_sim, agent = agent, scaler = scaler)"
   ]
  }
 ],
 "metadata": {
  "interpreter": {
   "hash": "5871f9ceaeb58903a062280df9e35c51c3f2838963fa6a6e83036660d9d47fa0"
  },
  "kernelspec": {
   "display_name": "Python 3 (ipykernel)",
   "language": "python",
   "name": "python3"
  },
  "language_info": {
   "codemirror_mode": {
    "name": "ipython",
    "version": 3
   },
   "file_extension": ".py",
   "mimetype": "text/x-python",
   "name": "python",
   "nbconvert_exporter": "python",
   "pygments_lexer": "ipython3",
   "version": "3.8.8"
  }
 },
 "nbformat": 4,
 "nbformat_minor": 2
}
