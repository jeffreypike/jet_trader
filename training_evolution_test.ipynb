{
 "cells": [
  {
   "cell_type": "code",
   "execution_count": 3,
   "metadata": {},
   "outputs": [],
   "source": [
    "# Standard stuff\n",
    "import numpy as np\n",
    "import pandas as pd\n",
    "import matplotlib.pyplot as plt\n",
    "import os\n",
    "\n",
    "# Machine Learning\n",
    "import tensorflow as tf\n",
    "from tensorflow.keras.layers import Input, Dense, Dropout\n",
    "from tensorflow.keras.models import Model\n",
    "import pickle\n",
    "from sklearn.preprocessing import StandardScaler\n",
    "\n",
    "# Algorithmic trading\n",
    "import tpqoa\n",
    "from datetime import datetime, timedelta\n",
    "import time\n",
    "\n",
    "# Multiprocessing\n",
    "import multiprocessing\n",
    "from multiprocessing.dummy import Pool\n",
    "\n",
    "# My designs\n",
    "import Agents\n",
    "import Environments\n",
    "import Models"
   ]
  },
  {
   "cell_type": "code",
   "execution_count": 21,
   "metadata": {},
   "outputs": [
    {
     "name": "stdout",
     "output_type": "stream",
     "text": [
      "Num GPUs Available:  0\n"
     ]
    }
   ],
   "source": [
    "print(\"Num GPUs Available: \", len(tf.config.list_physical_devices('GPU')))"
   ]
  },
  {
   "cell_type": "code",
   "execution_count": 17,
   "metadata": {},
   "outputs": [],
   "source": [
    "def get_scaler(env, epochs):\n",
    "    states = []\n",
    "\n",
    "    for i in range(epochs):\n",
    "        done = False\n",
    "        while not done:   # play as random agent to generate sample space of states\n",
    "            action = np.random.choice(env.action_space)\n",
    "            state, reward, done, info = env.step(action)\n",
    "            states.append(state)\n",
    "    \n",
    "    scaler = StandardScaler()\n",
    "    scaler.fit(states)\n",
    "    return scaler\n",
    "\n",
    "def maybe_make_dir(directory):\n",
    "    if not os.path.exists(directory):\n",
    "        os.makedirs(directory)\n",
    "\n",
    "def reward_function(env, agent, scaler, *weights):  # could add history length\n",
    "    agent.model.set_weights(weights)\n",
    "    episode_reward = 0\n",
    "    \n",
    "    state = env.reset()\n",
    "    state = scaler.transform([state])\n",
    "    done = False\n",
    "    \n",
    "    while not done:\n",
    "        action = agent.act(state)\n",
    "        next_state, reward, done, info = env.step(action)\n",
    "        episode_reward += reward\n",
    "        state = scaler.transform([next_state])\n",
    "    \n",
    "    return episode_reward\n",
    "\n",
    "def play_one_episode(env, agent, scaler):\n",
    "    state = env.reset()\n",
    "    state = scaler.transform([state])\n",
    "    done = False\n",
    "    \n",
    "    while not done:\n",
    "        action = agent.act(state)\n",
    "        next_state, reward, done, info = env.step(action)\n",
    "        next_state = scaler.transform([next_state])\n",
    "        agent.train(state, action, reward, next_state, done)\n",
    "        state = next_state\n",
    "    \n",
    "    return info[\"cur_val\"]\n",
    "\n",
    "def get_data(api, instrument, bar_length, months = 6):     \n",
    "    now = datetime.utcnow()\n",
    "    now = now - timedelta(microseconds = now.microsecond)\n",
    "    past = now - timedelta(days = 30 * months)\n",
    "\n",
    "    df_ask = api.get_history(\n",
    "        instrument = instrument,\n",
    "        start = past,\n",
    "        end = now,\n",
    "        granularity = \"S5\",\n",
    "        price = \"A\",\n",
    "        localize = False\n",
    "    ).c.rename(\"Ask\")\n",
    "\n",
    "    df_ask = df_ask.resample(pd.to_timedelta(bar_length), label = \"right\").last()\n",
    "\n",
    "    df_bid = api.get_history(\n",
    "        instrument = instrument,\n",
    "        start = past,\n",
    "        end = now,\n",
    "        granularity = \"S5\",\n",
    "        price = \"B\",\n",
    "        localize = False\n",
    "    ).c.rename(\"Bid\")\n",
    "\n",
    "    df_bid = df_bid.resample(pd.to_timedelta(bar_length), label = \"right\").last()\n",
    "\n",
    "    df = pd.concat([df_ask, df_bid], axis = 1).dropna().iloc[ : -1]\n",
    "    return df\n"
   ]
  },
  {
   "cell_type": "code",
   "execution_count": 5,
   "metadata": {},
   "outputs": [
    {
     "data": {
      "text/plain": [
       "99872.6231"
      ]
     },
     "execution_count": 5,
     "metadata": {},
     "output_type": "execute_result"
    }
   ],
   "source": [
    "api = tpqoa.tpqoa(\"oanda.cfg\")\n",
    "balance = float(api.get_account_summary()[\"balance\"])\n",
    "balance"
   ]
  },
  {
   "cell_type": "code",
   "execution_count": 6,
   "metadata": {},
   "outputs": [
    {
     "name": "stdout",
     "output_type": "stream",
     "text": [
      "Wall time: 4min 40s\n"
     ]
    },
    {
     "data": {
      "text/html": [
       "<div>\n",
       "<style scoped>\n",
       "    .dataframe tbody tr th:only-of-type {\n",
       "        vertical-align: middle;\n",
       "    }\n",
       "\n",
       "    .dataframe tbody tr th {\n",
       "        vertical-align: top;\n",
       "    }\n",
       "\n",
       "    .dataframe thead th {\n",
       "        text-align: right;\n",
       "    }\n",
       "</style>\n",
       "<table border=\"1\" class=\"dataframe\">\n",
       "  <thead>\n",
       "    <tr style=\"text-align: right;\">\n",
       "      <th></th>\n",
       "      <th>Ask</th>\n",
       "      <th>Bid</th>\n",
       "    </tr>\n",
       "    <tr>\n",
       "      <th>time</th>\n",
       "      <th></th>\n",
       "      <th></th>\n",
       "    </tr>\n",
       "  </thead>\n",
       "  <tbody>\n",
       "    <tr>\n",
       "      <th>2021-09-02 19:20:00+00:00</th>\n",
       "      <td>1.18753</td>\n",
       "      <td>1.18738</td>\n",
       "    </tr>\n",
       "    <tr>\n",
       "      <th>2021-09-02 19:40:00+00:00</th>\n",
       "      <td>1.18749</td>\n",
       "      <td>1.18737</td>\n",
       "    </tr>\n",
       "    <tr>\n",
       "      <th>2021-09-02 20:00:00+00:00</th>\n",
       "      <td>1.18747</td>\n",
       "      <td>1.18734</td>\n",
       "    </tr>\n",
       "    <tr>\n",
       "      <th>2021-09-02 20:20:00+00:00</th>\n",
       "      <td>1.18749</td>\n",
       "      <td>1.18735</td>\n",
       "    </tr>\n",
       "    <tr>\n",
       "      <th>2021-09-02 20:40:00+00:00</th>\n",
       "      <td>1.18756</td>\n",
       "      <td>1.18743</td>\n",
       "    </tr>\n",
       "    <tr>\n",
       "      <th>...</th>\n",
       "      <td>...</td>\n",
       "      <td>...</td>\n",
       "    </tr>\n",
       "    <tr>\n",
       "      <th>2022-03-01 17:40:00+00:00</th>\n",
       "      <td>1.11117</td>\n",
       "      <td>1.11103</td>\n",
       "    </tr>\n",
       "    <tr>\n",
       "      <th>2022-03-01 18:00:00+00:00</th>\n",
       "      <td>1.11100</td>\n",
       "      <td>1.11083</td>\n",
       "    </tr>\n",
       "    <tr>\n",
       "      <th>2022-03-01 18:20:00+00:00</th>\n",
       "      <td>1.11047</td>\n",
       "      <td>1.11030</td>\n",
       "    </tr>\n",
       "    <tr>\n",
       "      <th>2022-03-01 18:40:00+00:00</th>\n",
       "      <td>1.11154</td>\n",
       "      <td>1.11139</td>\n",
       "    </tr>\n",
       "    <tr>\n",
       "      <th>2022-03-01 19:00:00+00:00</th>\n",
       "      <td>1.11234</td>\n",
       "      <td>1.11218</td>\n",
       "    </tr>\n",
       "  </tbody>\n",
       "</table>\n",
       "<p>9207 rows × 2 columns</p>\n",
       "</div>"
      ],
      "text/plain": [
       "                               Ask      Bid\n",
       "time                                       \n",
       "2021-09-02 19:20:00+00:00  1.18753  1.18738\n",
       "2021-09-02 19:40:00+00:00  1.18749  1.18737\n",
       "2021-09-02 20:00:00+00:00  1.18747  1.18734\n",
       "2021-09-02 20:20:00+00:00  1.18749  1.18735\n",
       "2021-09-02 20:40:00+00:00  1.18756  1.18743\n",
       "...                            ...      ...\n",
       "2022-03-01 17:40:00+00:00  1.11117  1.11103\n",
       "2022-03-01 18:00:00+00:00  1.11100  1.11083\n",
       "2022-03-01 18:20:00+00:00  1.11047  1.11030\n",
       "2022-03-01 18:40:00+00:00  1.11154  1.11139\n",
       "2022-03-01 19:00:00+00:00  1.11234  1.11218\n",
       "\n",
       "[9207 rows x 2 columns]"
      ]
     },
     "execution_count": 6,
     "metadata": {},
     "output_type": "execute_result"
    }
   ],
   "source": [
    "%%time\n",
    "data = get_data(api, \"EUR_USD\", \"20min\")\n",
    "data"
   ]
  },
  {
   "cell_type": "code",
   "execution_count": 7,
   "metadata": {},
   "outputs": [],
   "source": [
    "train_sim = Environments.Simulator(\n",
    "        data = data, \n",
    "        initial_investment = balance,\n",
    "        bar_length = \"20min\",\n",
    "        time_horizon = \"12hour\",\n",
    "        units = 100000\n",
    ")"
   ]
  },
  {
   "cell_type": "code",
   "execution_count": 8,
   "metadata": {},
   "outputs": [],
   "source": [
    "state_size = 4\n",
    "model = Models.MLP(input_dim = state_size)\n",
    "agent = Agents.EvolutionTrader(model = model, state_size = state_size)"
   ]
  },
  {
   "cell_type": "code",
   "execution_count": 9,
   "metadata": {},
   "outputs": [
    {
     "data": {
      "text/plain": [
       "array([0.00000000e+00, 9.98726231e+04, 1.18753000e+00, 1.18738000e+00])"
      ]
     },
     "execution_count": 9,
     "metadata": {},
     "output_type": "execute_result"
    }
   ],
   "source": [
    "train_sim.reset()"
   ]
  },
  {
   "cell_type": "code",
   "execution_count": 10,
   "metadata": {},
   "outputs": [],
   "source": [
    "scaler = get_scaler(train_sim, 1)"
   ]
  },
  {
   "cell_type": "code",
   "execution_count": 11,
   "metadata": {},
   "outputs": [],
   "source": [
    "model_folder = \"day_trader_models\"\n",
    "rewards_folder = \"day_trader_rewards\"\n",
    "num_episodes = 24\n",
    "portfolio_value = []\n",
    "\n",
    "maybe_make_dir(model_folder)\n",
    "maybe_make_dir(rewards_folder)"
   ]
  },
  {
   "cell_type": "code",
   "execution_count": 19,
   "metadata": {},
   "outputs": [],
   "source": [
    "def f(weights):\n",
    "    return reward_function(env = train_sim, agent = agent, scaler = scaler, weights = weights)"
   ]
  },
  {
   "cell_type": "code",
   "execution_count": 20,
   "metadata": {},
   "outputs": [
    {
     "ename": "TypeError",
     "evalue": "'function' object is not subscriptable",
     "output_type": "error",
     "traceback": [
      "\u001b[1;31m---------------------------------------------------------------------------\u001b[0m",
      "\u001b[1;31mTypeError\u001b[0m                                 Traceback (most recent call last)",
      "\u001b[1;32m<timed exec>\u001b[0m in \u001b[0;36m<module>\u001b[1;34m\u001b[0m\n",
      "\u001b[1;32m~\\Documents\\Projects\\Algorithmic Trader\\Agents.py\u001b[0m in \u001b[0;36mevolve_model\u001b[1;34m(self, reward_function)\u001b[0m\n\u001b[0;32m     62\u001b[0m         \u001b[0mweights\u001b[0m \u001b[1;33m=\u001b[0m \u001b[0mself\u001b[0m\u001b[1;33m.\u001b[0m\u001b[0mmodel\u001b[0m\u001b[1;33m.\u001b[0m\u001b[0mget_weights\u001b[0m\u001b[1;33m(\u001b[0m\u001b[1;33m)\u001b[0m\u001b[1;33m\u001b[0m\u001b[1;33m\u001b[0m\u001b[0m\n\u001b[0;32m     63\u001b[0m         \u001b[0mnoise\u001b[0m \u001b[1;33m=\u001b[0m \u001b[0mnp\u001b[0m\u001b[1;33m.\u001b[0m\u001b[0mrandom\u001b[0m\u001b[1;33m.\u001b[0m\u001b[0mrandn\u001b[0m\u001b[1;33m(\u001b[0m\u001b[0mself\u001b[0m\u001b[1;33m.\u001b[0m\u001b[0mpopulation_size\u001b[0m\u001b[1;33m,\u001b[0m \u001b[0mlen\u001b[0m\u001b[1;33m(\u001b[0m\u001b[0mweights\u001b[0m\u001b[1;33m)\u001b[0m\u001b[1;33m)\u001b[0m\u001b[1;33m\u001b[0m\u001b[1;33m\u001b[0m\u001b[0m\n\u001b[1;32m---> 64\u001b[1;33m \u001b[1;33m\u001b[0m\u001b[0m\n\u001b[0m\u001b[0;32m     65\u001b[0m         \u001b[1;31m# no multithreading (slow)\u001b[0m\u001b[1;33m\u001b[0m\u001b[1;33m\u001b[0m\u001b[1;33m\u001b[0m\u001b[0m\n\u001b[0;32m     66\u001b[0m         \u001b[1;31m# rewards = np.zeros(self.population_size)\u001b[0m\u001b[1;33m\u001b[0m\u001b[1;33m\u001b[0m\u001b[1;33m\u001b[0m\u001b[0m\n",
      "\u001b[1;31mTypeError\u001b[0m: 'function' object is not subscriptable"
     ]
    }
   ],
   "source": [
    "%%time\n",
    "val = agent.evolve_model(reward_function = f)\n",
    "val"
   ]
  },
  {
   "cell_type": "code",
   "execution_count": 10,
   "metadata": {},
   "outputs": [],
   "source": [
    "for i in range(num_episodes):\n",
    "    val = agent.evolve_model(reward_function = reward_function(env = env, agent = agent, scaler = scaler))  # pseudocode\n",
    "    portfolio_value.append(val)"
   ]
  },
  {
   "cell_type": "code",
   "execution_count": 21,
   "metadata": {},
   "outputs": [
    {
     "name": "stdout",
     "output_type": "stream",
     "text": [
      "WARNING:tensorflow:Compiled the loaded model, but the compiled metrics have yet to be built. `model.compile_metrics` will be empty until you train or evaluate the model.\n",
      "INFO:tensorflow:Assets written to: C:\\Users\\Jeff\\Documents\\Projects\\Algorithmic Trader\\day_trader_models\\q_day_trader\\assets\n"
     ]
    }
   ],
   "source": [
    "agent.model.model.save(r\"C:\\Users\\Jeff\\Documents\\Projects\\Algorithmic Trader\\day_trader_models\\evolution_day_trader\")\n",
    "pickle.dump(scaler, open(f\"{model_folder}/scaler.pkl\", \"wb\"))"
   ]
  },
  {
   "cell_type": "code",
   "execution_count": 13,
   "metadata": {},
   "outputs": [
    {
     "data": {
      "image/png": "[encoded data removed]",
      "text/plain": [
       "<Figure size 432x288 with 1 Axes>"
      ]
     },
     "metadata": {
      "needs_background": "light"
     },
     "output_type": "display_data"
    }
   ],
   "source": [
    "plt.plot(portfolio_value);"
   ]
  },
  {
   "cell_type": "code",
   "execution_count": 14,
   "metadata": {},
   "outputs": [
    {
     "data": {
      "text/plain": [
       "87458.62310000043"
      ]
     },
     "execution_count": 14,
     "metadata": {},
     "output_type": "execute_result"
    }
   ],
   "source": [
    "portfolio_value[-1]"
   ]
  }
 ],
 "metadata": {
  "interpreter": {
   "hash": "5871f9ceaeb58903a062280df9e35c51c3f2838963fa6a6e83036660d9d47fa0"
  },
  "kernelspec": {
   "display_name": "Python 3 (ipykernel)",
   "language": "python",
   "name": "python3"
  },
  "language_info": {
   "codemirror_mode": {
    "name": "ipython",
    "version": 3
   },
   "file_extension": ".py",
   "mimetype": "text/x-python",
   "name": "python",
   "nbconvert_exporter": "python",
   "pygments_lexer": "ipython3",
   "version": "3.8.8"
  }
 },
 "nbformat": 4,
 "nbformat_minor": 2
}
